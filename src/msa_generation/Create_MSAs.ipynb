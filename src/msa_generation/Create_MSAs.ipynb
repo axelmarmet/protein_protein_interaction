{
 "cells": [
  {
   "cell_type": "code",
   "execution_count": 1,
   "id": "4f46067c",
   "metadata": {},
   "outputs": [
    {
     "ename": "ModuleNotFoundError",
     "evalue": "No module named 'pandas'",
     "output_type": "error",
     "traceback": [
      "\u001B[1;31m---------------------------------------------------------------------------\u001B[0m",
      "\u001B[1;31mModuleNotFoundError\u001B[0m                       Traceback (most recent call last)",
      "\u001B[1;32m~\\AppData\\Local\\Temp/ipykernel_11260/3505901553.py\u001B[0m in \u001B[0;36m<module>\u001B[1;34m\u001B[0m\n\u001B[1;32m----> 1\u001B[1;33m \u001B[1;32mimport\u001B[0m \u001B[0mpandas\u001B[0m \u001B[1;32mas\u001B[0m \u001B[0mpd\u001B[0m\u001B[1;33m\u001B[0m\u001B[1;33m\u001B[0m\u001B[0m\n\u001B[0m\u001B[0;32m      2\u001B[0m \u001B[1;32mimport\u001B[0m \u001B[0mcsv\u001B[0m\u001B[1;33m\u001B[0m\u001B[1;33m\u001B[0m\u001B[0m\n\u001B[0;32m      3\u001B[0m \u001B[1;31m#import re\u001B[0m\u001B[1;33m\u001B[0m\u001B[1;33m\u001B[0m\u001B[1;33m\u001B[0m\u001B[0m\n\u001B[0;32m      4\u001B[0m \u001B[1;31m#import os\u001B[0m\u001B[1;33m\u001B[0m\u001B[1;33m\u001B[0m\u001B[1;33m\u001B[0m\u001B[0m\n\u001B[0;32m      5\u001B[0m \u001B[1;31m#import numpy as np\u001B[0m\u001B[1;33m\u001B[0m\u001B[1;33m\u001B[0m\u001B[1;33m\u001B[0m\u001B[0m\n",
      "\u001B[1;31mModuleNotFoundError\u001B[0m: No module named 'pandas'"
     ]
    }
   ],
   "source": [
    "import pandas as pd\n",
    "import csv\n",
    "#import re\n",
    "#import os\n",
    "#import numpy as np\n",
    "\n",
    "from tqdm.notebook import tqdm"
   ]
  },
  {
   "cell_type": "code",
   "execution_count": 2,
   "id": "8791f667",
   "metadata": {},
   "outputs": [],
   "source": [
    "def load_pair(tsv_file):\n",
    "  tsv_file = open(tsv_file)\n",
    "  read_tsv = csv.reader(tsv_file, delimiter=\"\\t\")\n",
    "\n",
    "  seq_1_list = []\n",
    "  seq_2_list = []\n",
    "  interact_list = []\n",
    "\n",
    "  for row in read_tsv:\n",
    "    #print(row)\n",
    "    seq_1_list.append(row[0])\n",
    "    seq_2_list.append(row[1])\n",
    "    interact_list.append(row[2])\n",
    "\n",
    "  tsv_file.close()\n",
    "\n",
    "  return seq_1_list, seq_2_list, interact_list"
   ]
  },
  {
   "cell_type": "code",
   "execution_count": 3,
   "id": "9305f0bf",
   "metadata": {},
   "outputs": [],
   "source": [
    "tsv_file = \"/work/lpdi/users/casper/dscript_data/human_train.tsv\"\n",
    "\n",
    "# assemble training set\n",
    "pair_1_list, pair_2_list, interact_list = load_pair(tsv_file)\n",
    "\n",
    "fasta_file = '/work/lpdi/users/casper/dscript_data/human.fasta'\n",
    "\n",
    "with open(fasta_file) as f:\n",
    "  lines = [line.rstrip() for line in f]\n",
    "\n",
    "seq_1_list = []\n",
    "seq_2_list = []"
   ]
  },
  {
   "cell_type": "code",
   "execution_count": null,
   "id": "7c13ace6",
   "metadata": {},
   "outputs": [],
   "source": [
    "for i in tqdm(pair_1_list):\n",
    "  for j in range(0, len(lines),2):\n",
    "    #print(lines[j][1:])\n",
    "    if i == lines[j][1:]:\n",
    "      seq_1_list.append(lines[j+1])\n",
    "\n",
    "for i in tqdm(pair_2_list):\n",
    "  for j in range(0, len(lines),2):\n",
    "    #print(lines[j][1:])\n",
    "    if i == lines[j][1:]:\n",
    "      seq_2_list.append(lines[j+1])\n",
    "    \n",
    "d = { 'name1':pair_1_list, 'name2':pair_2_list, 'seq1':seq_1_list, 'seq2':seq_2_list, 'ppi':interact_list }\n",
    "\n",
    "df = pd.DataFrame(d)\n",
    "\n",
    "df.to_pickle(\"/work/lpdi/users/casper/Alphafold2/alphafold/MSA_test/training_set.pkl\")"
   ]
  },
  {
   "cell_type": "code",
   "execution_count": 6,
   "id": "8dca7635",
   "metadata": {},
   "outputs": [
    {
     "name": "stdout",
     "output_type": "stream",
     "text": [
      "                  name1                 name2  \\\n",
      "0  9606.ENSP00000409077  9606.ENSP00000470819   \n",
      "1  9606.ENSP00000263904  9606.ENSP00000472680   \n",
      "2  9606.ENSP00000364459  9606.ENSP00000360117   \n",
      "3  9606.ENSP00000422403  9606.ENSP00000400591   \n",
      "4  9606.ENSP00000388332  9606.ENSP00000346080   \n",
      "\n",
      "                                                seq1  \\\n",
      "0  MSGKTKARRAAMFFRRCSEDASGSASGNALLSEDENPDANGVTRSW...   \n",
      "1  MPLFTANPFEQDVEKATNEYNTTEDWSLIMDICDKVGSTPNGAKDC...   \n",
      "2  MNLERLRKRVRQYLDQQQYQSALFWADKVASLSREEPQDIYWLAQC...   \n",
      "3  MARNAEKAMTALARFRQAQLEEGKVKERRPFLASECTELPKAEKWR...   \n",
      "4  MQNDAGEFVDLYVPRKCSASNRIIGAKDHASIQMNVAEVDKVTGRF...   \n",
      "\n",
      "                                                seq2 ppi  \n",
      "0  MDLPEGPVGGPTAEMYLRERPEEARLGMPVSLEEQILNSTFEACDP...   1  \n",
      "1  MDLLFGRRKTPEELLRQNQRALNRAMRELDRERQKLETQEKKIIAD...   1  \n",
      "2  MHGRAYLLLHRDFCDLKENNYKGITAKPVSEDMMEWEVEIEGLQNS...   1  \n",
      "3  MAYRGQGQKVQKVMVQPINLIFRYLQNRSRIQVWLYEQVNMRIEGC...   1  \n",
      "4  MAPQKDRKPKRSTWRFNLDLTHPVEDGIFDSGNFEQFLREKVKVNG...   1  \n"
     ]
    }
   ],
   "source": [
    "df = pd.read_pickle(\"/work/lpdi/users/casper/Alphafold2/alphafold/MSA_test/training_set.pkl\")\n",
    "\n",
    "print(df.head())"
   ]
  },
  {
   "cell_type": "code",
   "execution_count": 7,
   "id": "977ab378",
   "metadata": {},
   "outputs": [],
   "source": [
    "# import time\n",
    "\n",
    "# for i in tqdm(range(len(df['name1'][0:10000]))):\n",
    "#     sequence_1 = df['seq1'][i]\n",
    "#     sequence_2 = df['seq2'][i]\n",
    "#     name_1 = df['name1'][i]\n",
    "#     name_2 = df['name2'][i]\n",
    "#     if len(sequence_1)<=150 and len(sequence_2)<=150:\n",
    "#         #print(sequence)\n",
    "#         msa_features_1 = load_MSA(sequence_1, msa_method, out_raw_pdb_dir)\n",
    "#         create_a3m_file(msa_features_1, name_1)\n",
    "#         time.sleep(5)\n",
    "#         msa_features_2 = load_MSA(sequence_2, msa_method, out_raw_pdb_dir)\n",
    "#         create_a3m_file(msa_features_2, name_2)\n",
    "#         time.sleep(5) \n",
    "#         f = open(\"/work/lpdi/users/casper/msa_log.log\", \"w\")\n",
    "#         f.write(str(c/len(df['name1'][0:10000])))\n",
    "#         f.close()"
   ]
  },
  {
   "cell_type": "code",
   "execution_count": 8,
   "id": "6aa82f2c",
   "metadata": {},
   "outputs": [
    {
     "data": {
      "application/vnd.jupyter.widget-view+json": {
       "model_id": "0f578ef35be94a82a4585ddd387c9d73",
       "version_major": 2,
       "version_minor": 0
      },
      "text/plain": [
       "  0%|          | 0/421792 [00:00<?, ?it/s]"
      ]
     },
     "metadata": {},
     "output_type": "display_data"
    }
   ],
   "source": [
    "file_1 = open(\"/work/lpdi/users/casper/dscript_MSAs/seq1.fasta\", \"w\")\n",
    "file_2 = open(\"/work/lpdi/users/casper/dscript_MSAs/seq2.fasta\", \"w\")\n",
    "\n",
    "c = 0\n",
    "\n",
    "for i in tqdm(range(len(df['name1']))):\n",
    "    sequence_1 = df['seq1'][i]\n",
    "    sequence_2 = df['seq2'][i]\n",
    "    name_1 = df['name1'][i]\n",
    "    name_2 = df['name2'][i]\n",
    "    if len(sequence_1)<=250 and len(sequence_2)<=250:\n",
    "        file_1.write('>{name} \\n'.format(name=name_1))\n",
    "        file_1.write(sequence_1 + '\\n')\n",
    "        file_2.write('>{name} \\n'.format(name=name_2))\n",
    "        file_2.write(sequence_2 + '\\n')\n",
    "        c+=1\n",
    "# print(c)"
   ]
  },
  {
   "cell_type": "code",
   "execution_count": 9,
   "id": "ae5504da",
   "metadata": {},
   "outputs": [
    {
     "name": "stdout",
     "output_type": "stream",
     "text": [
      "74186\n"
     ]
    }
   ],
   "source": [
    "n_seqs = c*2\n",
    "print(n_seqs)"
   ]
  },
  {
   "cell_type": "code",
   "execution_count": null,
   "id": "58b4f59d",
   "metadata": {},
   "outputs": [],
   "source": []
  }
 ],
 "metadata": {
  "kernelspec": {
   "display_name": "Python 3 (ipykernel)",
   "language": "python",
   "name": "python3"
  },
  "language_info": {
   "codemirror_mode": {
    "name": "ipython",
    "version": 3
   },
   "file_extension": ".py",
   "mimetype": "text/x-python",
   "name": "python",
   "nbconvert_exporter": "python",
   "pygments_lexer": "ipython3",
   "version": "3.8.10"
  }
 },
 "nbformat": 4,
 "nbformat_minor": 5
}